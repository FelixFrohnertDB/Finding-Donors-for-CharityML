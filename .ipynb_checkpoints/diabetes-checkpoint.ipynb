{
 "cells": [
  {
   "cell_type": "markdown",
   "metadata": {},
   "source": [
    "This notebook examines the diabetes dataset provided by sklearn to test different classification methods.\n",
    "\n",
    "\n",
    "Data Set Characteristics:\n",
    "\n",
    "- Number of Instances: 442\n",
    "\n",
    "- Number of Attributes: First 10 columns are numeric predictive values\n",
    "\n",
    "- Target: Column 11 is a quantitative measure of disease progression one year after baseline\n",
    "\n",
    "Attribute Information\n",
    "- age: age in years\n",
    "\n",
    "- sex: binary\n",
    "\n",
    "- bmi: body mass index\n",
    "\n",
    "- bp: average blood pressure\n",
    "\n",
    "- s1: tc, total serum cholesterol\n",
    "\n",
    "- s2: ldl, low-density lipoproteins\n",
    "\n",
    "- s3: hdl, high-density lipoproteins\n",
    "\n",
    "- s4: tch, total cholesterol / HDL\n",
    "\n",
    "- s5: ltg, possibly log of serum triglycerides level\n",
    "\n",
    "- s6: glu, blood sugar level"
   ]
  },
  {
   "cell_type": "markdown",
   "metadata": {
    "id": "rrNyMfZJ6e7-"
   },
   "source": [
    "# Imports and helper functions"
   ]
  },
  {
   "cell_type": "code",
   "execution_count": 12,
   "metadata": {
    "id": "Wkg4HUeqdHWx"
   },
   "outputs": [],
   "source": [
    "from sklearn.datasets import load_diabetes\n",
    "import seaborn as sns\n",
    "from sklearn.model_selection import train_test_split\n",
    "%matplotlib inline\n",
    "import warnings\n",
    "warnings.filterwarnings(\"ignore\", category = UserWarning, module = \"matplotlib\")\n",
    "from IPython import get_ipython\n",
    "get_ipython().run_line_magic('matplotlib', 'inline')\n",
    "import matplotlib.pyplot as pl\n",
    "import matplotlib.patches as mpatches\n",
    "import numpy as np\n",
    "import pandas as pd\n",
    "from time import time\n",
    "from sklearn.metrics import f1_score, accuracy_score, mean_squared_error\n",
    "from sklearn.linear_model import LinearRegression\n",
    "from sklearn.linear_model import Lasso\n",
    "from sklearn.model_selection import GridSearchCV\n",
    "from sklearn.metrics import make_scorer\n",
    "from sklearn.metrics import fbeta_score\n",
    "from sklearn.naive_bayes import GaussianNB\n",
    "from sklearn.svm import SVC\n",
    "from sklearn.tree import DecisionTreeClassifier\n",
    "from sklearn.linear_model import LogisticRegression\n",
    "from sklearn.impute import SimpleImputer\n",
    "from copy import deepcopy\n",
    "\n",
    "\n",
    "def distribution(data, transformed = False, cols = None):\n",
    "    \"\"\"\n",
    "    Visualization code for displaying skewed distributions of features\n",
    "    \"\"\"\n",
    "    \n",
    "    assert cols, \"GIVE ME COLUMN NAMES PLEASE\"\n",
    "    # Create figure\n",
    "    fig = pl.figure(figsize = (5*len(cols),5));\n",
    "\n",
    "    # Skewed feature plotting\n",
    "    for i, feature in enumerate(cols):\n",
    "        ax = fig.add_subplot(1, len(cols), i+1)\n",
    "        ax.hist(data[feature], bins = 25, color = '#00A0A0')\n",
    "        ax.set_title(\"'%s' Feature Distribution\"%(feature), fontsize = 14)\n",
    "        ax.set_xlabel(\"Value\")\n",
    "        ax.set_ylabel(\"Num\")\n",
    "        ax.set_ylim((0, 500))\n",
    "    fig.tight_layout()\n",
    "    fig.show()\n",
    "\n",
    "\n",
    "def evaluate(results, accuracy, f1):\n",
    "    \"\"\"\n",
    "    Visualization code to display results of various learners.\n",
    "    \n",
    "    inputs:\n",
    "      - learners: a list of supervised learners\n",
    "      - stats: a list of dictionaries of the statistic results from 'train_predict()'\n",
    "      - accuracy: The score for the naive predictor\n",
    "      - f1: The score for the naive predictor\n",
    "    \"\"\"\n",
    "  \n",
    "    # Create figure\n",
    "    fig, ax = pl.subplots(2, 3, figsize = (11,8))\n",
    "\n",
    "    # Constants\n",
    "    bar_width = 0.3\n",
    "    colors = ['#A00000','#00A0A0','#00A000']\n",
    "    \n",
    "    # Super loop to plot four panels of data\n",
    "    for k, learner in enumerate(results.keys()):\n",
    "        for j, metric in enumerate(['train_time', 'acc_train', 'f_train', 'pred_time', 'acc_test', 'f_test']):\n",
    "            for i in np.arange(3):\n",
    "                \n",
    "                # Creative plot code\n",
    "                ax[j//3, j%3].bar(i+k*bar_width, results[learner][i][metric], width = bar_width, color = colors[k])\n",
    "                ax[j//3, j%3].set_xticks([0.45, 1.45, 2.45])\n",
    "                ax[j//3, j%3].set_xticklabels([\"1%\", \"10%\", \"100%\"])\n",
    "                ax[j//3, j%3].set_xlabel(\"Training Set Size\")\n",
    "                ax[j//3, j%3].set_xlim((-0.1, 3.0))\n",
    "    \n",
    "    # Add unique y-labels\n",
    "    ax[0, 0].set_ylabel(\"Time (in seconds)\")\n",
    "    ax[0, 1].set_ylabel(\"Accuracy Score\")\n",
    "    ax[0, 2].set_ylabel(\"F-score\")\n",
    "    ax[1, 0].set_ylabel(\"Time (in seconds)\")\n",
    "    ax[1, 1].set_ylabel(\"Accuracy Score\")\n",
    "    ax[1, 2].set_ylabel(\"F-score\")\n",
    "    \n",
    "    # Add titles\n",
    "    ax[0, 0].set_title(\"Model Training\")\n",
    "    ax[0, 1].set_title(\"Accuracy Score on Training Subset\")\n",
    "    ax[0, 2].set_title(\"F-score on Training Subset\")\n",
    "    ax[1, 0].set_title(\"Model Predicting\")\n",
    "    ax[1, 1].set_title(\"Accuracy Score on Testing Set\")\n",
    "    ax[1, 2].set_title(\"F-score on Testing Set\")\n",
    "    \n",
    "    # Add horizontal lines for naive predictors\n",
    "    ax[0, 1].axhline(y = accuracy, xmin = -0.1, xmax = 3.0, linewidth = 1, color = 'k', linestyle = 'dashed')\n",
    "    ax[1, 1].axhline(y = accuracy, xmin = -0.1, xmax = 3.0, linewidth = 1, color = 'k', linestyle = 'dashed')\n",
    "    ax[0, 2].axhline(y = f1, xmin = -0.1, xmax = 3.0, linewidth = 1, color = 'k', linestyle = 'dashed')\n",
    "    ax[1, 2].axhline(y = f1, xmin = -0.1, xmax = 3.0, linewidth = 1, color = 'k', linestyle = 'dashed')\n",
    "    \n",
    "    # Set y-limits for score panels\n",
    "    ax[0, 1].set_ylim((0, 1))\n",
    "    ax[0, 2].set_ylim((0, 1))\n",
    "    ax[1, 1].set_ylim((0, 1))\n",
    "    ax[1, 2].set_ylim((0, 1))\n",
    "\n",
    "    # Create patches for the legend\n",
    "    patches = []\n",
    "    for i, learner in enumerate(results.keys()):\n",
    "        patches.append(mpatches.Patch(color = colors[i], label = learner))\n",
    "    pl.legend(handles = patches, bbox_to_anchor = (-.80, 2.53), \\\n",
    "               loc = 'upper center', borderaxespad = 0., ncol = 3, fontsize = 'x-large')\n",
    "    \n",
    "    # Aesthetics\n",
    "    pl.suptitle(\"Performance Metrics for Three Supervised Learning Models\", fontsize = 16, x = 0.63, y = 1.05)\n",
    "    # Tune the subplot layout\n",
    "    # Refer - https://matplotlib.org/3.1.1/api/_as_gen/matplotlib.pyplot.subplots_adjust.html for more details on the arguments\n",
    "    pl.subplots_adjust(left = 0.125, right = 1.2, bottom = 0.1, top = 0.9, wspace = 0.2, hspace = 0.3)    \n",
    "    pl.tight_layout()\n",
    "    pl.show()\n",
    "    \n",
    "\n",
    "def feature_plot(importances, X_train, y_train):\n",
    "    \n",
    "    # Display the five most important features\n",
    "    indices = np.argsort(importances)[::-1]\n",
    "    columns = X_train.columns.values[indices[:5]]\n",
    "    values = importances[indices][:5]\n",
    "\n",
    "    # Creat the plot\n",
    "    fig = pl.figure(figsize = (9,5))\n",
    "    pl.title(\"Normalized Weights for First Five Most Predictive Features\", fontsize = 16)\n",
    "    pl.bar(np.arange(5), values, width = 0.6, align=\"center\", color = '#00A000', \\\n",
    "          label = \"Feature Weight\")\n",
    "    pl.bar(np.arange(5) - 0.3, np.cumsum(values), width = 0.2, align = \"center\", color = '#00A0A0', \\\n",
    "          label = \"Cumulative Feature Weight\")\n",
    "    pl.xticks(np.arange(5), columns)\n",
    "    pl.xlim((-0.5, 4.5))\n",
    "    pl.ylabel(\"Weight\", fontsize = 12)\n",
    "    pl.xlabel(\"Feature\", fontsize = 12)\n",
    "    \n",
    "    pl.legend(loc = 'upper center')\n",
    "    pl.tight_layout()\n",
    "    pl.show() "
   ]
  },
  {
   "cell_type": "markdown",
   "metadata": {
    "id": "ia5BiN8H6sVx"
   },
   "source": [
    "# Load dataset"
   ]
  },
  {
   "cell_type": "code",
   "execution_count": 2,
   "metadata": {
    "id": "6XoOzWb_dYBr"
   },
   "outputs": [],
   "source": [
    "X, y = load_diabetes(return_X_y=True, as_frame=True)"
   ]
  },
  {
   "cell_type": "code",
   "execution_count": 3,
   "metadata": {
    "colab": {
     "base_uri": "https://localhost:8080/",
     "height": 206
    },
    "id": "OAayFjxIdmgV",
    "outputId": "858cff95-96b0-4879-c0f1-38775106eea6"
   },
   "outputs": [
    {
     "data": {
      "text/html": [
       "<div>\n",
       "<style scoped>\n",
       "    .dataframe tbody tr th:only-of-type {\n",
       "        vertical-align: middle;\n",
       "    }\n",
       "\n",
       "    .dataframe tbody tr th {\n",
       "        vertical-align: top;\n",
       "    }\n",
       "\n",
       "    .dataframe thead th {\n",
       "        text-align: right;\n",
       "    }\n",
       "</style>\n",
       "<table border=\"1\" class=\"dataframe\">\n",
       "  <thead>\n",
       "    <tr style=\"text-align: right;\">\n",
       "      <th></th>\n",
       "      <th>age</th>\n",
       "      <th>sex</th>\n",
       "      <th>bmi</th>\n",
       "      <th>bp</th>\n",
       "      <th>s1</th>\n",
       "      <th>s2</th>\n",
       "      <th>s3</th>\n",
       "      <th>s4</th>\n",
       "      <th>s5</th>\n",
       "      <th>s6</th>\n",
       "    </tr>\n",
       "  </thead>\n",
       "  <tbody>\n",
       "    <tr>\n",
       "      <th>0</th>\n",
       "      <td>0.038076</td>\n",
       "      <td>0.050680</td>\n",
       "      <td>0.061696</td>\n",
       "      <td>0.021872</td>\n",
       "      <td>-0.044223</td>\n",
       "      <td>-0.034821</td>\n",
       "      <td>-0.043401</td>\n",
       "      <td>-0.002592</td>\n",
       "      <td>0.019908</td>\n",
       "      <td>-0.017646</td>\n",
       "    </tr>\n",
       "    <tr>\n",
       "      <th>1</th>\n",
       "      <td>-0.001882</td>\n",
       "      <td>-0.044642</td>\n",
       "      <td>-0.051474</td>\n",
       "      <td>-0.026328</td>\n",
       "      <td>-0.008449</td>\n",
       "      <td>-0.019163</td>\n",
       "      <td>0.074412</td>\n",
       "      <td>-0.039493</td>\n",
       "      <td>-0.068330</td>\n",
       "      <td>-0.092204</td>\n",
       "    </tr>\n",
       "    <tr>\n",
       "      <th>2</th>\n",
       "      <td>0.085299</td>\n",
       "      <td>0.050680</td>\n",
       "      <td>0.044451</td>\n",
       "      <td>-0.005671</td>\n",
       "      <td>-0.045599</td>\n",
       "      <td>-0.034194</td>\n",
       "      <td>-0.032356</td>\n",
       "      <td>-0.002592</td>\n",
       "      <td>0.002864</td>\n",
       "      <td>-0.025930</td>\n",
       "    </tr>\n",
       "    <tr>\n",
       "      <th>3</th>\n",
       "      <td>-0.089063</td>\n",
       "      <td>-0.044642</td>\n",
       "      <td>-0.011595</td>\n",
       "      <td>-0.036656</td>\n",
       "      <td>0.012191</td>\n",
       "      <td>0.024991</td>\n",
       "      <td>-0.036038</td>\n",
       "      <td>0.034309</td>\n",
       "      <td>0.022692</td>\n",
       "      <td>-0.009362</td>\n",
       "    </tr>\n",
       "    <tr>\n",
       "      <th>4</th>\n",
       "      <td>0.005383</td>\n",
       "      <td>-0.044642</td>\n",
       "      <td>-0.036385</td>\n",
       "      <td>0.021872</td>\n",
       "      <td>0.003935</td>\n",
       "      <td>0.015596</td>\n",
       "      <td>0.008142</td>\n",
       "      <td>-0.002592</td>\n",
       "      <td>-0.031991</td>\n",
       "      <td>-0.046641</td>\n",
       "    </tr>\n",
       "  </tbody>\n",
       "</table>\n",
       "</div>"
      ],
      "text/plain": [
       "        age       sex       bmi        bp        s1        s2        s3  \\\n",
       "0  0.038076  0.050680  0.061696  0.021872 -0.044223 -0.034821 -0.043401   \n",
       "1 -0.001882 -0.044642 -0.051474 -0.026328 -0.008449 -0.019163  0.074412   \n",
       "2  0.085299  0.050680  0.044451 -0.005671 -0.045599 -0.034194 -0.032356   \n",
       "3 -0.089063 -0.044642 -0.011595 -0.036656  0.012191  0.024991 -0.036038   \n",
       "4  0.005383 -0.044642 -0.036385  0.021872  0.003935  0.015596  0.008142   \n",
       "\n",
       "         s4        s5        s6  \n",
       "0 -0.002592  0.019908 -0.017646  \n",
       "1 -0.039493 -0.068330 -0.092204  \n",
       "2 -0.002592  0.002864 -0.025930  \n",
       "3  0.034309  0.022692 -0.009362  \n",
       "4 -0.002592 -0.031991 -0.046641  "
      ]
     },
     "execution_count": 3,
     "metadata": {},
     "output_type": "execute_result"
    }
   ],
   "source": [
    "X.head()"
   ]
  },
  {
   "cell_type": "code",
   "execution_count": 7,
   "metadata": {},
   "outputs": [
    {
     "data": {
      "text/plain": [
       "0    151.0\n",
       "1     75.0\n",
       "2    141.0\n",
       "3    206.0\n",
       "4    135.0\n",
       "Name: target, dtype: float64"
      ]
     },
     "execution_count": 7,
     "metadata": {},
     "output_type": "execute_result"
    }
   ],
   "source": [
    "y.head()"
   ]
  },
  {
   "cell_type": "code",
   "execution_count": 6,
   "metadata": {
    "colab": {
     "base_uri": "https://localhost:8080/",
     "height": 351
    },
    "id": "Y1Ddsd88eUPH",
    "outputId": "32cc4e2d-da39-47d5-feb4-395eec32bc88"
   },
   "outputs": [
    {
     "data": {
      "text/plain": [
       "<AxesSubplot:xlabel='bmi', ylabel='target'>"
      ]
     },
     "execution_count": 6,
     "metadata": {},
     "output_type": "execute_result"
    },
    {
     "data": {
      "image/png": "[encoded data removed]",
      "text/plain": [
       "<Figure size 432x288 with 1 Axes>"
      ]
     },
     "metadata": {
      "needs_background": "light"
     },
     "output_type": "display_data"
    }
   ],
   "source": [
    "sns.scatterplot(x = X['bmi'], y = y)"
   ]
  },
  {
   "cell_type": "markdown",
   "metadata": {
    "id": "GrzsEiNQ86Lm"
   },
   "source": [
    "## Make sure all data points are normalised"
   ]
  },
  {
   "cell_type": "code",
   "execution_count": 8,
   "metadata": {
    "colab": {
     "base_uri": "https://localhost:8080/",
     "height": 186
    },
    "id": "Se8OBzyp9FnN",
    "outputId": "af36ba3d-d634-4372-9a68-3f41a194af4d"
   },
   "outputs": [
    {
     "name": "stderr",
     "output_type": "stream",
     "text": [
      "/tmp/ipykernel_112481/314274029.py:35: UserWarning: Matplotlib is currently using module://matplotlib_inline.backend_inline, which is a non-GUI backend, so cannot show the figure.\n",
      "  fig.show()\n"
     ]
    },
    {
     "data": {
      "image/png": "[encoded data removed]",
      "text/plain": [
       "<Figure size 3600x360 with 10 Axes>"
      ]
     },
     "metadata": {
      "needs_background": "light"
     },
     "output_type": "display_data"
    }
   ],
   "source": [
    "distribution(X, transformed = False, cols = [\"age\",\t\"sex\",\t\"bmi\",\t\"bp\",\t\"s1\",\t\"s2\",\t\"s3\",\t\"s4\",\t\"s5\",\t\"s6\"])"
   ]
  },
  {
   "cell_type": "code",
   "execution_count": 9,
   "metadata": {
    "colab": {
     "base_uri": "https://localhost:8080/"
    },
    "id": "C9qrhflQjAJW",
    "outputId": "143e6ce1-c0ea-43f7-e76b-196f42328791"
   },
   "outputs": [
    {
     "name": "stdout",
     "output_type": "stream",
     "text": [
      "Training set has 353 samples.\n",
      "Testing set has 89 samples.\n"
     ]
    }
   ],
   "source": [
    "# Split the 'features' and 'income' data into training and testing sets\n",
    "X_train, X_test, y_train, y_test = train_test_split(X, \n",
    "                                                    y, \n",
    "                                                    test_size = 0.2, \n",
    "                                                    random_state = 42)\n",
    "\n",
    "# Show the results of the split\n",
    "print(\"Training set has {} samples.\".format(X_train.shape[0]))\n",
    "print(\"Testing set has {} samples.\".format(X_test.shape[0]))"
   ]
  },
  {
   "cell_type": "markdown",
   "metadata": {
    "id": "x-x-W70RBMp9"
   },
   "source": [
    "# Time to make models"
   ]
  },
  {
   "cell_type": "markdown",
   "metadata": {},
   "source": [
    "Compare regular LinearRegression with Lasso regression, i.e. L1 regularization"
   ]
  },
  {
   "cell_type": "code",
   "execution_count": 10,
   "metadata": {
    "colab": {
     "base_uri": "https://localhost:8080/"
    },
    "id": "bpIhwZOyjd0_",
    "outputId": "71cdc9cf-8823-45aa-e5c5-b9db4311ab9f"
   },
   "outputs": [
    {
     "name": "stdout",
     "output_type": "stream",
     "text": [
      "MSE = 2900.17\n"
     ]
    }
   ],
   "source": [
    "model = LinearRegression()\n",
    "model.fit(X_train, y_train)\n",
    "prediction = model.predict(X_test)\n",
    "\n",
    "error = mean_squared_error(y_test, prediction)\n",
    "print(f\"MSE = {error:.2f}\")"
   ]
  },
  {
   "cell_type": "code",
   "execution_count": 11,
   "metadata": {
    "colab": {
     "base_uri": "https://localhost:8080/"
    },
    "id": "QNqqeA1sDOWc",
    "outputId": "028c69df-c373-4d0f-86f8-bf5478c6de19"
   },
   "outputs": [
    {
     "name": "stdout",
     "output_type": "stream",
     "text": [
      "MSE = 2798.19\n"
     ]
    }
   ],
   "source": [
    "model = Lasso(0.1)\n",
    "model.fit(X_train, y_train)\n",
    "prediction = model.predict(X_test)\n",
    "\n",
    "error = mean_squared_error(y_test, prediction)\n",
    "print(f\"MSE = {error:.2f}\")"
   ]
  },
  {
   "cell_type": "markdown",
   "metadata": {},
   "source": [
    "To find optimal $\\alpha$ parameter perform grid search"
   ]
  },
  {
   "cell_type": "code",
   "execution_count": 21,
   "metadata": {},
   "outputs": [],
   "source": [
    "from sklearn.metrics import r2_score"
   ]
  },
  {
   "cell_type": "code",
   "execution_count": 31,
   "metadata": {},
   "outputs": [
    {
     "name": "stdout",
     "output_type": "stream",
     "text": [
      "Lasso(alpha=0.08525252525252525)\n",
      "MSE = 2799.30\n"
     ]
    }
   ],
   "source": [
    "clf = Lasso()\n",
    "\n",
    "parameters = {'alpha': np.linspace(0.01,1.5,100)}\n",
    "scorer = make_scorer(r2_score)\n",
    "# scorer = make_scorer(f1_score)\n",
    "\n",
    "grid_obj = GridSearchCV(clf, parameters,scoring=scorer)\n",
    "grid_fit = grid_obj.fit(X_train, y_train)\n",
    "best_clf = grid_fit.best_estimator_\n",
    "predictions = (clf.fit(X_train, y_train)).predict(X_test)\n",
    "best_predictions = best_clf.predict(X_test)\n",
    "print(best_clf)\n",
    "error = mean_squared_error(y_test, best_predictions)\n",
    "print(f\"MSE = {error:.2f}\")"
   ]
  },
  {
   "cell_type": "markdown",
   "metadata": {
    "id": "ff4vTujkKnpB"
   },
   "source": [
    "# From regression to classification"
   ]
  },
  {
   "cell_type": "markdown",
   "metadata": {},
   "source": [
    "Make y_train and y_test boolean (cut value 150.0)"
   ]
  },
  {
   "cell_type": "code",
   "execution_count": 38,
   "metadata": {
    "id": "jSmJ3fzsIBe5"
   },
   "outputs": [],
   "source": [
    "y_train_bool =  y_train < 150\n",
    "y_test_bool = y_test-150 < 0"
   ]
  },
  {
   "cell_type": "markdown",
   "metadata": {},
   "source": [
    "Compare accuracies of GaussianNB, DecisionTreeClassifier, LogisticRegression, SVC"
   ]
  },
  {
   "cell_type": "code",
   "execution_count": 44,
   "metadata": {
    "colab": {
     "base_uri": "https://localhost:8080/"
    },
    "id": "qFpx7AnwK8gb",
    "outputId": "ba732115-dc9b-43af-c01b-81cb2df91c4f"
   },
   "outputs": [
    {
     "name": "stdout",
     "output_type": "stream",
     "text": [
      "Accuracy (NaiveBayes) = 0.74\n",
      "Accuracy (DecisionTrees) = 0.57\n",
      "Accuracy (LogisticRegression) = 0.78\n",
      "Accuracy (SVC) = 0.76\n"
     ]
    }
   ],
   "source": [
    "cl_nb = GaussianNB()\n",
    "cl_dt = DecisionTreeClassifier()\n",
    "cl_lr = LogisticRegression()\n",
    "cl_svc = SVC()\n",
    "\n",
    "cl_nb.fit(X_train, y_train_bool)\n",
    "cl_dt.fit(X_train, y_train_bool)\n",
    "cl_lr.fit(X_train, y_train_bool)\n",
    "cl_svc.fit(X_train, y_train_bool)\n",
    "preds_nb = cl_nb.predict(X_test)\n",
    "preds_dt = cl_dt.predict(X_test)\n",
    "preds_lr = cl_lr.predict(X_test)\n",
    "preds_svc = cl_svc.predict(X_test)\n",
    "\n",
    "acc_nb = accuracy_score(y_test_bool, preds_nb)\n",
    "acc_dt = accuracy_score(y_test_bool, preds_dt)\n",
    "acc_lr = accuracy_score(y_test_bool, preds_lr)\n",
    "acc_svc = accuracy_score(y_test_bool, preds_svc)\n",
    "print(f\"Accuracy (NaiveBayes) = {acc_nb:.2f}\")\n",
    "print(f\"Accuracy (DecisionTrees) = {acc_dt:.2f}\")\n",
    "print(f\"Accuracy (LogisticRegression) = {acc_lr:.2f}\")\n",
    "print(f\"Accuracy (SVC) = {acc_svc:.2f}\")"
   ]
  },
  {
   "cell_type": "markdown",
   "metadata": {},
   "source": [
    "Grid search on hyperparameters to increase accuracy."
   ]
  },
  {
   "cell_type": "code",
   "execution_count": 65,
   "metadata": {
    "colab": {
     "base_uri": "https://localhost:8080/"
    },
    "id": "n-LHFCtom8zx",
    "outputId": "ef65046b-0225-49b1-aa3b-1f4f174940d9"
   },
   "outputs": [
    {
     "name": "stdout",
     "output_type": "stream",
     "text": [
      "Old Accuracy (NaiveBayes) = 0.75\n",
      "GaussianNB()\n"
     ]
    },
    {
     "data": {
      "text/plain": [
       "0.7415730337078652"
      ]
     },
     "execution_count": 65,
     "metadata": {},
     "output_type": "execute_result"
    }
   ],
   "source": [
    "clf = GaussianNB()\n",
    "\n",
    "parameters = {'var_smoothing': [1e-9,1e-8,1e-10]}\n",
    "scorer = make_scorer(fbeta_score, beta=0.5)\n",
    "\n",
    "grid_obj = GridSearchCV(clf, parameters,scoring=scorer)\n",
    "grid_fit = grid_obj.fit(X_train,y_train_bool)\n",
    "best_clf = grid_fit.best_estimator_\n",
    "predictions = (clf.fit(X_train, y_train_bool)).predict(X_test)\n",
    "best_predictions = best_clf.predict(X_test)\n",
    "print(f\"Old Accuracy (NaiveBayes) = {acc_nb:.2f}\")\n",
    "print(best_clf)\n",
    "accuracy_score(y_test_bool, best_predictions)"
   ]
  },
  {
   "cell_type": "code",
   "execution_count": 66,
   "metadata": {
    "colab": {
     "base_uri": "https://localhost:8080/"
    },
    "id": "edDCxqYnm9EF",
    "outputId": "c5f80d7f-7265-4071-95fd-038b50d72d6c"
   },
   "outputs": [
    {
     "name": "stdout",
     "output_type": "stream",
     "text": [
      "Old Accuracy (DecisionTrees) = 0.60\n",
      "DecisionTreeClassifier(max_depth=2, min_samples_split=0.5)\n"
     ]
    },
    {
     "data": {
      "text/plain": [
       "0.7415730337078652"
      ]
     },
     "execution_count": 66,
     "metadata": {},
     "output_type": "execute_result"
    }
   ],
   "source": [
    "clf = DecisionTreeClassifier()\n",
    "\n",
    "parameters = {\"max_depth\": [1, 2, 3] ,\"min_samples_split\":[0.1,0.5,2,3,4]}\n",
    "scorer = make_scorer(fbeta_score, beta=0.5)\n",
    "\n",
    "grid_obj = GridSearchCV(clf, parameters,scoring=scorer)\n",
    "grid_fit = grid_obj.fit(X_train,y_train_bool)\n",
    "best_clf = grid_fit.best_estimator_\n",
    "predictions = (clf.fit(X_train, y_train_bool)).predict(X_test)\n",
    "best_predictions = best_clf.predict(X_test)\n",
    "print(f\"Old Accuracy (DecisionTrees) = {acc_dt:.2f}\")\n",
    "print(best_clf)\n",
    "\n",
    "accuracy_score(y_test_bool, best_predictions)"
   ]
  },
  {
   "cell_type": "code",
   "execution_count": 67,
   "metadata": {
    "colab": {
     "base_uri": "https://localhost:8080/"
    },
    "id": "39tChxoDm9Kz",
    "outputId": "2d146158-b5b4-45a5-95ac-f0a1d0213b67"
   },
   "outputs": [
    {
     "name": "stdout",
     "output_type": "stream",
     "text": [
      "Old Accuracy (LogisticRegression) = 0.78\n",
      "LogisticRegression(C=2)\n"
     ]
    },
    {
     "data": {
      "text/plain": [
       "0.7640449438202247"
      ]
     },
     "execution_count": 67,
     "metadata": {},
     "output_type": "execute_result"
    }
   ],
   "source": [
    "clf = LogisticRegression()\n",
    "\n",
    "parameters = {\"C\":[0.1,0.5,1,2,3]}\n",
    "scorer = make_scorer(fbeta_score, beta=0.5)\n",
    "\n",
    "grid_obj = GridSearchCV(clf, parameters,scoring=scorer)\n",
    "grid_fit = grid_obj.fit(X_train,y_train_bool)\n",
    "best_clf = grid_fit.best_estimator_\n",
    "predictions = (clf.fit(X_train, y_train_bool)).predict(X_test)\n",
    "best_predictions = best_clf.predict(X_test)\n",
    "print(f\"Old Accuracy (LogisticRegression) = {acc_lr:.2f}\")\n",
    "print(best_clf)\n",
    "accuracy_score(y_test_bool, best_predictions)"
   ]
  },
  {
   "cell_type": "code",
   "execution_count": 68,
   "metadata": {
    "colab": {
     "base_uri": "https://localhost:8080/"
    },
    "id": "CGpiDdT2m9QR",
    "outputId": "8b2f24b8-480f-42ae-8e2d-d9e250aa1aa2"
   },
   "outputs": [
    {
     "name": "stdout",
     "output_type": "stream",
     "text": [
      "Accuracy (SVC) = 0.79\n",
      "SVC(C=0.5)\n"
     ]
    },
    {
     "data": {
      "text/plain": [
       "0.7303370786516854"
      ]
     },
     "execution_count": 68,
     "metadata": {},
     "output_type": "execute_result"
    }
   ],
   "source": [
    "clf = SVC()\n",
    "\n",
    "parameters = {\"C\":[0.1,0.5,1,2,3]}\n",
    "scorer = make_scorer(fbeta_score, beta=0.5)\n",
    "\n",
    "grid_obj = GridSearchCV(clf, parameters,scoring=scorer)\n",
    "grid_fit = grid_obj.fit(X_train,y_train_bool)\n",
    "best_clf = grid_fit.best_estimator_\n",
    "predictions = (clf.fit(X_train, y_train_bool)).predict(X_test)\n",
    "best_predictions = best_clf.predict(X_test)\n",
    "print(f\"Accuracy (SVC) = {acc_svc:.2f}\")\n",
    "print(best_clf)\n",
    "accuracy_score(y_test_bool, best_predictions)"
   ]
  },
  {
   "cell_type": "markdown",
   "metadata": {
    "id": "uNoSD9soSH6Z"
   },
   "source": [
    "# Investigate Imputing in Sklearn\n",
    "\n",
    "Train a classifier with `X_train_challenge` and `y_train_bool`.\n",
    "Find the best classifier accuracy score with `X_test` and `y_test_bool`"
   ]
  },
  {
   "cell_type": "code",
   "execution_count": 75,
   "metadata": {
    "colab": {
     "base_uri": "https://localhost:8080/"
    },
    "id": "wx7DHRNdPouD",
    "outputId": "2208bec7-f495-4039-9c0a-7f794f9a45e1"
   },
   "outputs": [
    {
     "name": "stdout",
     "output_type": "stream",
     "text": [
      "          age       sex       bmi        bp        s1        s2        s3  \\\n",
      "17   0.070769  0.050680  0.012117  0.056301  0.034206  0.049416 -0.039719   \n",
      "66  -0.009147  0.050680 -0.018062 -0.033214 -0.020832  0.012152 -0.072854   \n",
      "137  0.005383 -0.044642  0.049840  0.097616 -0.015328 -0.016345 -0.006584   \n",
      "245       NaN -0.044642 -0.035307 -0.029771 -0.056607 -0.058620  0.030232   \n",
      "31  -0.023677 -0.044642 -0.065486 -0.081414 -0.038720 -0.053610  0.059685   \n",
      "\n",
      "           s4        s5        s6  \n",
      "17   0.034309  0.027368 -0.001078  \n",
      "66   0.071210  0.000271  0.019633  \n",
      "137 -0.002592  0.017037 -0.013504  \n",
      "245 -0.039493 -0.049868 -0.129483  \n",
      "31  -0.076395 -0.037128 -0.042499  \n"
     ]
    }
   ],
   "source": [
    "X_train_challenge = deepcopy(X_train)\n",
    "X_train_challenge[\"age_new\"] = X_train_challenge.apply(lambda x: np.nan if x.name%5==0 else x[\"age\"], axis=1)\n",
    "X_train_challenge.drop(columns=[\"age\"], inplace=True)\n",
    "\n",
    "first_column = X_train_challenge.pop('age_new')\n",
    "  \n",
    "X_train_challenge.insert(0, 'age', first_column)\n",
    "print(X_train_challenge.head())"
   ]
  },
  {
   "cell_type": "code",
   "execution_count": 76,
   "metadata": {
    "id": "QyW1PzoLr0c_"
   },
   "outputs": [],
   "source": [
    "imp = SimpleImputer(missing_values=np.nan, strategy='mean')\n",
    "imp.fit(X_train_challenge)\n",
    "#SimpleImputer()\n",
    "#X = [[np.nan, 2], [6, np.nan], [7, 6]]\n",
    "X_train_challenge = imp.transform(X_train_challenge)"
   ]
  },
  {
   "cell_type": "code",
   "execution_count": null,
   "metadata": {
    "id": "B6zHnv9Psuc5"
   },
   "outputs": [],
   "source": [
    "Accuracy (NaiveBayes) = 0.74\n",
    "Accuracy (DecisionTrees) = 0.57\n",
    "Accuracy (LogisticRegression) = 0.78\n",
    "Accuracy (SVC) = 0.76"
   ]
  },
  {
   "cell_type": "code",
   "execution_count": 77,
   "metadata": {
    "colab": {
     "base_uri": "https://localhost:8080/"
    },
    "id": "HW-0JpRJStVp",
    "outputId": "2ee3562f-984d-453f-bc1b-2e681870ce0f"
   },
   "outputs": [
    {
     "name": "stdout",
     "output_type": "stream",
     "text": [
      "Accuracy (NaiveBayes) = 0.75\n",
      "Accuracy (DecisionTrees) = 0.63\n",
      "Accuracy (LogisticRegression) = 0.78\n",
      "Accuracy (SVC) = 0.79\n"
     ]
    },
    {
     "name": "stderr",
     "output_type": "stream",
     "text": [
      "/usr/local/lib/python3.7/dist-packages/sklearn/base.py:444: UserWarning: X has feature names, but GaussianNB was fitted without feature names\n",
      "  f\"X has feature names, but {self.__class__.__name__} was fitted without\"\n",
      "/usr/local/lib/python3.7/dist-packages/sklearn/base.py:444: UserWarning: X has feature names, but DecisionTreeClassifier was fitted without feature names\n",
      "  f\"X has feature names, but {self.__class__.__name__} was fitted without\"\n",
      "/usr/local/lib/python3.7/dist-packages/sklearn/base.py:444: UserWarning: X has feature names, but LogisticRegression was fitted without feature names\n",
      "  f\"X has feature names, but {self.__class__.__name__} was fitted without\"\n",
      "/usr/local/lib/python3.7/dist-packages/sklearn/base.py:444: UserWarning: X has feature names, but SVC was fitted without feature names\n",
      "  f\"X has feature names, but {self.__class__.__name__} was fitted without\"\n"
     ]
    }
   ],
   "source": [
    "cl_nb = GaussianNB()\n",
    "cl_dt = DecisionTreeClassifier()\n",
    "cl_lr = LogisticRegression()\n",
    "cl_svc = SVC()\n",
    "\n",
    "cl_nb.fit(X_train_challenge, y_train_bool)\n",
    "cl_dt.fit(X_train_challenge, y_train_bool)\n",
    "cl_lr.fit(X_train_challenge, y_train_bool)\n",
    "cl_svc.fit(X_train_challenge, y_train_bool)\n",
    "preds_nb = cl_nb.predict(X_test)\n",
    "preds_dt = cl_dt.predict(X_test)\n",
    "preds_lr = cl_lr.predict(X_test)\n",
    "preds_svc = cl_svc.predict(X_test)\n",
    "\n",
    "acc_nb = accuracy_score(y_test_bool, preds_nb)\n",
    "acc_dt = accuracy_score(y_test_bool, preds_dt)\n",
    "acc_lr = accuracy_score(y_test_bool, preds_lr)\n",
    "acc_svc = accuracy_score(y_test_bool, preds_svc)\n",
    "print(f\"Accuracy (NaiveBayes) = {acc_nb:.2f}\")\n",
    "print(f\"Accuracy (DecisionTrees) = {acc_dt:.2f}\")\n",
    "print(f\"Accuracy (LogisticRegression) = {acc_lr:.2f}\")\n",
    "print(f\"Accuracy (SVC) = {acc_svc:.2f}\")"
   ]
  }
 ],
 "metadata": {
  "colab": {
   "collapsed_sections": [
    "rrNyMfZJ6e7-"
   ],
   "name": "diabetes_forStudents.ipynb",
   "provenance": []
  },
  "kernelspec": {
   "display_name": "Python 3 (ipykernel)",
   "language": "python",
   "name": "python3"
  },
  "language_info": {
   "codemirror_mode": {
    "name": "ipython",
    "version": 3
   },
   "file_extension": ".py",
   "mimetype": "text/x-python",
   "name": "python",
   "nbconvert_exporter": "python",
   "pygments_lexer": "ipython3",
   "version": "3.9.7"
  }
 },
 "nbformat": 4,
 "nbformat_minor": 1
}
